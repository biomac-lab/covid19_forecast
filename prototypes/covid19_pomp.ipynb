{
 "cells": [
  {
   "cell_type": "code",
   "execution_count": null,
   "metadata": {},
   "outputs": [],
   "source": [
    "import sys\n",
    "\n",
    "sys.path.insert(0, '..')\n",
    "\n",
    "from functions.adjust_cases_functions import prepare_cases \n",
    "from functions.general_utils import  get_bool\n",
    "from models.seird_model import SEIRD\n",
    "\n",
    "from statsmodels.tsa.arima.model import ARIMA\n",
    "\n",
    "\n",
    "import matplotlib.pyplot as plt\n",
    "import scipy.io as sio\n",
    "import pandas as pd\n",
    "import numpy as np\n",
    "import os\n",
    "\n",
    "from global_config import config\n",
    "\n",
    "\n",
    "poly_run  = 11001\n",
    "name_dir  = 'bogota'\n",
    "drop_last_weeks = False\n",
    "\n",
    "data_dir            = config.get_property('data_dir_covid')\n",
    "geo_dir             = config.get_property('geo_dir')\n",
    "data_dir_mnps       = config.get_property('data_dir_col')\n",
    "results_dir         = config.get_property('results_dir')\n",
    "\n",
    "agglomerated_folder = os.path.join(data_dir, 'data_stages', 'colombia', 'agglomerated', 'geometry' )\n",
    "raw_folder          = os.path.join(data_dir, 'data_stages', 'colombia', 'raw', 'cases' )\n",
    "\n",
    "polygons = pd.read_csv(os.path.join(agglomerated_folder, 'polygons.csv')).set_index('poly_id')\n",
    "polygons = polygons.loc[poly_run]\n",
    "\n",
    "\n",
    "data_raw  =  pd.read_csv(os.path.join(raw_folder, 'cases_raw.csv'), dayfirst=True)\n",
    "\n",
    "data  =  pd.read_csv(os.path.join(agglomerated_folder, 'cases.csv'), parse_dates=['date_time'], dayfirst=True).set_index('poly_id')\n",
    "data  = data.loc[poly_run].set_index('date_time')\n",
    "data  = data.resample('D').sum().fillna(0)[['num_cases','num_diseased']]\n",
    "data  = prepare_cases(data, col='num_cases', cutoff=0)   \n",
    "data  = prepare_cases(data, col='num_diseased', cutoff=0)\n",
    "\n"
   ]
  },
  {
   "cell_type": "code",
   "execution_count": null,
   "metadata": {},
   "outputs": [],
   "source": [
    "fig, ax = plt.subplots(2, 1, figsize=(15.5, 14.2))\n",
    "\n",
    "ax[0].plot(data.index.values, data.smoothed_num_cases, color='k', linewidth=2)\n",
    "ax[0].scatter(data.index.values, data.num_cases, edgecolor='k', facecolor='w')\n",
    "\n",
    "ax[1].plot(data.index.values, data.smoothed_num_diseased, color='r', linewidth=2)\n",
    "ax[1].scatter(data.index.values, data.num_diseased, edgecolor='r', facecolor='w')\n",
    "\n",
    "\n"
   ]
  },
  {
   "cell_type": "code",
   "execution_count": 1,
   "metadata": {},
   "outputs": [],
   "source": [
    "import argparse\n",
    "import logging\n",
    "import math\n",
    "import re\n",
    "from collections import OrderedDict\n",
    "\n",
    "import torch\n",
    "\n",
    "import pyro\n",
    "import pyro.distributions as dist\n",
    "import pyro.distributions.hmm\n",
    "import pyro.poutine as poutine\n",
    "from pyro.infer import MCMC, NUTS, config_enumerate, infer_discrete\n",
    "from pyro.infer.autoguide import init_to_value\n",
    "from pyro.ops.special import safe_log\n",
    "from pyro.ops.tensor_utils import convolve\n",
    "from pyro.util import warn_if_nan\n",
    "\n",
    "logging.basicConfig(format='%(message)s', level=logging.INFO)\n",
    "\n"
   ]
  },
  {
   "cell_type": "code",
   "execution_count": 2,
   "metadata": {},
   "outputs": [],
   "source": [
    "import argparse\n",
    "import logging\n",
    "\n",
    "import torch\n",
    "\n",
    "import pyro\n",
    "import pyro.distributions as dist\n",
    "from pyro.infer import SMCFilter\n",
    "\n",
    "logging.basicConfig(format=\"%(relativeCreated) 9d %(message)s\", level=logging.INFO)\n",
    "\n",
    "\n",
    "class SimpleHarmonicModel:\n",
    "\n",
    "    def __init__(self, process_noise, measurement_noise):\n",
    "        self.A = torch.tensor([[0., 1.],\n",
    "                               [-1., 0.]])\n",
    "        self.B = torch.tensor([3., 3.])\n",
    "        self.sigma_z = torch.tensor(process_noise)\n",
    "        self.sigma_y = torch.tensor(measurement_noise)\n",
    "\n",
    "    def init(self, state, initial):\n",
    "        self.t = 0\n",
    "        state[\"z\"] = pyro.sample(\"z_init\", dist.Delta(initial, event_dim=1))\n",
    "\n",
    "    def step(self, state, y=None):\n",
    "        self.t += 1\n",
    "        state[\"z\"] = pyro.sample(\n",
    "            \"z_{}\".format(self.t),\n",
    "            dist.Normal(state[\"z\"].matmul(self.A), self.B*self.sigma_z).to_event(1))\n",
    "    \n",
    "        y = pyro.sample(\"y_{}\".format(self.t),\n",
    "                        dist.Normal(state[\"z\"][..., 0], self.sigma_y),\n",
    "                        obs=y)\n",
    "        return state[\"z\"], y\n",
    "\n",
    "\n",
    "class SimpleHarmonicModel_Guide:\n",
    "\n",
    "    def __init__(self, model):\n",
    "        self.model = model\n",
    "\n",
    "    def init(self, state, initial):\n",
    "        self.t = 0\n",
    "        pyro.sample(\"z_init\", dist.Delta(initial, event_dim=1))\n",
    "\n",
    "    def step(self, state, y=None):\n",
    "        self.t += 1\n",
    "\n",
    "        # Proposal distribution\n",
    "        pyro.sample(\n",
    "            \"z_{}\".format(self.t),\n",
    "            dist.Normal(state[\"z\"].matmul(self.model.A), torch.tensor([1., 1.])).to_event(1))\n",
    "\n",
    "\n",
    "def generate_data(args):\n",
    "    model = SimpleHarmonicModel(args.process_noise, args.measurement_noise)\n",
    "\n",
    "    state = {}\n",
    "    initial = torch.tensor([1., 0.])\n",
    "    model.init(state, initial=initial)\n",
    "    zs = [initial]\n",
    "    ys = [None]\n",
    "    for t in range(args.num_timesteps):\n",
    "        z, y = model.step(state)\n",
    "        zs.append(z)\n",
    "        ys.append(y)\n",
    "\n",
    "    return zs, ys"
   ]
  },
  {
   "cell_type": "code",
   "execution_count": 3,
   "metadata": {},
   "outputs": [],
   "source": [
    "parser = argparse.ArgumentParser(description=\"Simple Harmonic Oscillator w/ SMC Filtering Inference\")\n",
    "parser.add_argument(\"-n\", \"--num-timesteps\", default=500, type=int)\n",
    "parser.add_argument(\"-p\", \"--num-particles\", default=100, type=int)\n",
    "parser.add_argument(\"--process-noise\", default=1., type=float)\n",
    "parser.add_argument(\"--measurement-noise\", default=1., type=float)\n",
    "parser.add_argument(\"--seed\", default=0, type=int)\n",
    "\n",
    "args = parser.parse_args([])"
   ]
  },
  {
   "cell_type": "code",
   "execution_count": 4,
   "metadata": {},
   "outputs": [
    {
     "name": "stderr",
     "output_type": "stream",
     "text": [
      "Generating data\n",
      "Filtering\n",
      "At final time step:\n"
     ]
    }
   ],
   "source": [
    "pyro.set_rng_seed(args.seed)\n",
    "\n",
    "model = SimpleHarmonicModel(args.process_noise, args.measurement_noise)\n",
    "guide = SimpleHarmonicModel_Guide(model)\n",
    "\n",
    "smc = SMCFilter(model, guide, num_particles=args.num_particles, max_plate_nesting=0)\n",
    "\n",
    "logging.info(\"Generating data\")\n",
    "zs, ys = generate_data(args)\n",
    "\n",
    "logging.info(\"Filtering\")\n",
    "\n",
    "smc.init(initial=torch.tensor([1., 0.]))\n",
    "for y in ys[1:]:\n",
    "    smc.step(y)\n",
    "\n",
    "logging.info(\"At final time step:\")\n",
    "z = smc.get_empirical()[\"z\"]"
   ]
  },
  {
   "cell_type": "code",
   "execution_count": 16,
   "metadata": {},
   "outputs": [
    {
     "data": {
      "text/plain": [
       "(tensor([ 0.0809, 67.0811]),\n",
       " tensor([-1.1345, 65.9661]),\n",
       " tensor([0.8514, 1.6066]))"
      ]
     },
     "execution_count": 16,
     "metadata": {},
     "output_type": "execute_result"
    }
   ],
   "source": [
    "zs[-1], z.mean, z.variance ** 0.5"
   ]
  },
  {
   "cell_type": "code",
   "execution_count": null,
   "metadata": {},
   "outputs": [],
   "source": []
  }
 ],
 "metadata": {
  "kernelspec": {
   "display_name": "Python 3",
   "language": "python",
   "name": "python3"
  },
  "language_info": {
   "codemirror_mode": {
    "name": "ipython",
    "version": 3
   },
   "file_extension": ".py",
   "mimetype": "text/x-python",
   "name": "python",
   "nbconvert_exporter": "python",
   "pygments_lexer": "ipython3",
   "version": "3.8.3"
  }
 },
 "nbformat": 4,
 "nbformat_minor": 4
}
